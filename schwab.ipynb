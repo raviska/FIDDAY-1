{
 "cells": [
  {
   "cell_type": "code",
   "execution_count": 1,
   "id": "b7d2dd61",
   "metadata": {},
   "outputs": [
    {
     "data": {
      "text/plain": [
       "'/home/ec2-user/SageMaker'"
      ]
     },
     "execution_count": 1,
     "metadata": {},
     "output_type": "execute_result"
    }
   ],
   "source": [
    "pwd"
   ]
  },
  {
   "cell_type": "code",
   "execution_count": 16,
   "id": "6ca893e3",
   "metadata": {},
   "outputs": [
    {
     "name": "stdout",
     "output_type": "stream",
     "text": [
      "Requirement already satisfied: yfinance in /home/ec2-user/anaconda3/envs/python3/lib/python3.6/site-packages (0.1.59)\n",
      "Requirement already satisfied: lxml>=4.5.1 in /home/ec2-user/anaconda3/envs/python3/lib/python3.6/site-packages (from yfinance) (4.6.3)\n",
      "Requirement already satisfied: requests>=2.20 in /home/ec2-user/anaconda3/envs/python3/lib/python3.6/site-packages (from yfinance) (2.25.1)\n",
      "Requirement already satisfied: numpy>=1.15 in /home/ec2-user/anaconda3/envs/python3/lib/python3.6/site-packages (from yfinance) (1.19.5)\n",
      "Requirement already satisfied: pandas>=0.24 in /home/ec2-user/anaconda3/envs/python3/lib/python3.6/site-packages (from yfinance) (0.25.0)\n",
      "Requirement already satisfied: multitasking>=0.0.7 in /home/ec2-user/anaconda3/envs/python3/lib/python3.6/site-packages (from yfinance) (0.0.9)\n",
      "Requirement already satisfied: python-dateutil>=2.6.1 in /home/ec2-user/anaconda3/envs/python3/lib/python3.6/site-packages (from pandas>=0.24->yfinance) (2.8.1)\n",
      "Requirement already satisfied: pytz>=2017.2 in /home/ec2-user/anaconda3/envs/python3/lib/python3.6/site-packages (from pandas>=0.24->yfinance) (2021.1)\n",
      "Requirement already satisfied: six>=1.5 in /home/ec2-user/anaconda3/envs/python3/lib/python3.6/site-packages (from python-dateutil>=2.6.1->pandas>=0.24->yfinance) (1.15.0)\n",
      "Requirement already satisfied: chardet<5,>=3.0.2 in /home/ec2-user/anaconda3/envs/python3/lib/python3.6/site-packages (from requests>=2.20->yfinance) (3.0.4)\n",
      "Requirement already satisfied: urllib3<1.27,>=1.21.1 in /home/ec2-user/anaconda3/envs/python3/lib/python3.6/site-packages (from requests>=2.20->yfinance) (1.26.5)\n",
      "Requirement already satisfied: idna<3,>=2.5 in /home/ec2-user/anaconda3/envs/python3/lib/python3.6/site-packages (from requests>=2.20->yfinance) (2.10)\n",
      "Requirement already satisfied: certifi>=2017.4.17 in /home/ec2-user/anaconda3/envs/python3/lib/python3.6/site-packages (from requests>=2.20->yfinance) (2020.12.5)\n"
     ]
    }
   ],
   "source": [
    "!pip install yfinance"
   ]
  },
  {
   "cell_type": "code",
   "execution_count": 18,
   "id": "9316e739",
   "metadata": {},
   "outputs": [],
   "source": [
    "import yfinance as yf"
   ]
  },
  {
   "cell_type": "code",
   "execution_count": 19,
   "id": "8ca7ffe9",
   "metadata": {},
   "outputs": [
    {
     "name": "stdout",
     "output_type": "stream",
     "text": [
      "[*********************100%***********************]  1 of 1 completed\n"
     ]
    }
   ],
   "source": [
    "data = yf.download('SCHW')"
   ]
  },
  {
   "cell_type": "code",
   "execution_count": 20,
   "id": "d6579c7a",
   "metadata": {},
   "outputs": [
    {
     "data": {
      "text/html": [
       "<div>\n",
       "<style scoped>\n",
       "    .dataframe tbody tr th:only-of-type {\n",
       "        vertical-align: middle;\n",
       "    }\n",
       "\n",
       "    .dataframe tbody tr th {\n",
       "        vertical-align: top;\n",
       "    }\n",
       "\n",
       "    .dataframe thead th {\n",
       "        text-align: right;\n",
       "    }\n",
       "</style>\n",
       "<table border=\"1\" class=\"dataframe\">\n",
       "  <thead>\n",
       "    <tr style=\"text-align: right;\">\n",
       "      <th></th>\n",
       "      <th>Open</th>\n",
       "      <th>High</th>\n",
       "      <th>Low</th>\n",
       "      <th>Close</th>\n",
       "      <th>Adj Close</th>\n",
       "      <th>Volume</th>\n",
       "    </tr>\n",
       "    <tr>\n",
       "      <th>Date</th>\n",
       "      <th></th>\n",
       "      <th></th>\n",
       "      <th></th>\n",
       "      <th></th>\n",
       "      <th></th>\n",
       "      <th></th>\n",
       "    </tr>\n",
       "  </thead>\n",
       "  <tbody>\n",
       "    <tr>\n",
       "      <th>1987-09-22</th>\n",
       "      <td>0.0</td>\n",
       "      <td>0.364883</td>\n",
       "      <td>0.362140</td>\n",
       "      <td>0.362140</td>\n",
       "      <td>0.258097</td>\n",
       "      <td>69213994</td>\n",
       "    </tr>\n",
       "    <tr>\n",
       "      <th>1987-09-23</th>\n",
       "      <td>0.0</td>\n",
       "      <td>0.373114</td>\n",
       "      <td>0.362140</td>\n",
       "      <td>0.362140</td>\n",
       "      <td>0.258097</td>\n",
       "      <td>23109300</td>\n",
       "    </tr>\n",
       "    <tr>\n",
       "      <th>1987-09-24</th>\n",
       "      <td>0.0</td>\n",
       "      <td>0.370370</td>\n",
       "      <td>0.351166</td>\n",
       "      <td>0.370370</td>\n",
       "      <td>0.263962</td>\n",
       "      <td>13163006</td>\n",
       "    </tr>\n",
       "    <tr>\n",
       "      <th>1987-09-25</th>\n",
       "      <td>0.0</td>\n",
       "      <td>0.373114</td>\n",
       "      <td>0.364883</td>\n",
       "      <td>0.373114</td>\n",
       "      <td>0.265918</td>\n",
       "      <td>12757500</td>\n",
       "    </tr>\n",
       "    <tr>\n",
       "      <th>1987-09-28</th>\n",
       "      <td>0.0</td>\n",
       "      <td>0.373114</td>\n",
       "      <td>0.364883</td>\n",
       "      <td>0.364883</td>\n",
       "      <td>0.260051</td>\n",
       "      <td>7700063</td>\n",
       "    </tr>\n",
       "  </tbody>\n",
       "</table>\n",
       "</div>"
      ],
      "text/plain": [
       "            Open      High       Low     Close  Adj Close    Volume\n",
       "Date                                                               \n",
       "1987-09-22   0.0  0.364883  0.362140  0.362140   0.258097  69213994\n",
       "1987-09-23   0.0  0.373114  0.362140  0.362140   0.258097  23109300\n",
       "1987-09-24   0.0  0.370370  0.351166  0.370370   0.263962  13163006\n",
       "1987-09-25   0.0  0.373114  0.364883  0.373114   0.265918  12757500\n",
       "1987-09-28   0.0  0.373114  0.364883  0.364883   0.260051   7700063"
      ]
     },
     "execution_count": 20,
     "metadata": {},
     "output_type": "execute_result"
    }
   ],
   "source": [
    "data.head()"
   ]
  },
  {
   "cell_type": "code",
   "execution_count": 21,
   "id": "e487b30b",
   "metadata": {},
   "outputs": [
    {
     "data": {
      "text/html": [
       "<div>\n",
       "<style scoped>\n",
       "    .dataframe tbody tr th:only-of-type {\n",
       "        vertical-align: middle;\n",
       "    }\n",
       "\n",
       "    .dataframe tbody tr th {\n",
       "        vertical-align: top;\n",
       "    }\n",
       "\n",
       "    .dataframe thead th {\n",
       "        text-align: right;\n",
       "    }\n",
       "</style>\n",
       "<table border=\"1\" class=\"dataframe\">\n",
       "  <thead>\n",
       "    <tr style=\"text-align: right;\">\n",
       "      <th></th>\n",
       "      <th>Open</th>\n",
       "      <th>High</th>\n",
       "      <th>Low</th>\n",
       "      <th>Close</th>\n",
       "      <th>Adj Close</th>\n",
       "      <th>Volume</th>\n",
       "    </tr>\n",
       "    <tr>\n",
       "      <th>Date</th>\n",
       "      <th></th>\n",
       "      <th></th>\n",
       "      <th></th>\n",
       "      <th></th>\n",
       "      <th></th>\n",
       "      <th></th>\n",
       "    </tr>\n",
       "  </thead>\n",
       "  <tbody>\n",
       "    <tr>\n",
       "      <th>2021-06-07</th>\n",
       "      <td>75.940002</td>\n",
       "      <td>75.949997</td>\n",
       "      <td>74.349998</td>\n",
       "      <td>74.730003</td>\n",
       "      <td>74.730003</td>\n",
       "      <td>5662000</td>\n",
       "    </tr>\n",
       "    <tr>\n",
       "      <th>2021-06-08</th>\n",
       "      <td>74.150002</td>\n",
       "      <td>75.169998</td>\n",
       "      <td>73.570000</td>\n",
       "      <td>75.120003</td>\n",
       "      <td>75.120003</td>\n",
       "      <td>7317100</td>\n",
       "    </tr>\n",
       "    <tr>\n",
       "      <th>2021-06-09</th>\n",
       "      <td>74.839996</td>\n",
       "      <td>74.900002</td>\n",
       "      <td>72.250000</td>\n",
       "      <td>72.849998</td>\n",
       "      <td>72.849998</td>\n",
       "      <td>9634600</td>\n",
       "    </tr>\n",
       "    <tr>\n",
       "      <th>2021-06-10</th>\n",
       "      <td>73.699997</td>\n",
       "      <td>74.220001</td>\n",
       "      <td>72.449997</td>\n",
       "      <td>72.620003</td>\n",
       "      <td>72.620003</td>\n",
       "      <td>8741300</td>\n",
       "    </tr>\n",
       "    <tr>\n",
       "      <th>2021-06-11</th>\n",
       "      <td>72.889999</td>\n",
       "      <td>73.980003</td>\n",
       "      <td>72.849998</td>\n",
       "      <td>73.919998</td>\n",
       "      <td>73.919998</td>\n",
       "      <td>6911700</td>\n",
       "    </tr>\n",
       "  </tbody>\n",
       "</table>\n",
       "</div>"
      ],
      "text/plain": [
       "                 Open       High        Low      Close  Adj Close   Volume\n",
       "Date                                                                      \n",
       "2021-06-07  75.940002  75.949997  74.349998  74.730003  74.730003  5662000\n",
       "2021-06-08  74.150002  75.169998  73.570000  75.120003  75.120003  7317100\n",
       "2021-06-09  74.839996  74.900002  72.250000  72.849998  72.849998  9634600\n",
       "2021-06-10  73.699997  74.220001  72.449997  72.620003  72.620003  8741300\n",
       "2021-06-11  72.889999  73.980003  72.849998  73.919998  73.919998  6911700"
      ]
     },
     "execution_count": 21,
     "metadata": {},
     "output_type": "execute_result"
    }
   ],
   "source": [
    "data.tail()"
   ]
  },
  {
   "cell_type": "code",
   "execution_count": 22,
   "id": "40e0ba45",
   "metadata": {},
   "outputs": [],
   "source": [
    "#Data - s3--> csv/recordio; realtime - log details\n",
    "#Data Engineering: spark/hadoop - big data - > \n",
    "#Data Manipulation - Data Munging- Data-Wrangling-Data Cleaning\n",
    "#Model building\n",
    "#Model Evaluation\n",
    "#Hyperparameter tuning\n",
    "#Model Testing\n",
    "#Model Deployment"
   ]
  },
  {
   "cell_type": "code",
   "execution_count": 23,
   "id": "e8e3f52c",
   "metadata": {},
   "outputs": [
    {
     "name": "stdout",
     "output_type": "stream",
     "text": [
      "Requirement already satisfied: pandas_profiling in /home/ec2-user/anaconda3/envs/python3/lib/python3.6/site-packages (3.0.0)\n",
      "Requirement already satisfied: phik>=0.11.1 in /home/ec2-user/anaconda3/envs/python3/lib/python3.6/site-packages (from pandas_profiling) (0.11.2)\n",
      "Requirement already satisfied: tangled-up-in-unicode==0.1.0 in /home/ec2-user/anaconda3/envs/python3/lib/python3.6/site-packages (from pandas_profiling) (0.1.0)\n",
      "Requirement already satisfied: requests>=2.24.0 in /home/ec2-user/anaconda3/envs/python3/lib/python3.6/site-packages (from pandas_profiling) (2.25.1)\n",
      "Requirement already satisfied: scipy>=1.4.1 in /home/ec2-user/anaconda3/envs/python3/lib/python3.6/site-packages (from pandas_profiling) (1.5.3)\n",
      "Requirement already satisfied: matplotlib>=3.2.0 in /home/ec2-user/anaconda3/envs/python3/lib/python3.6/site-packages (from pandas_profiling) (3.3.4)\n",
      "Requirement already satisfied: numpy>=1.16.0 in /home/ec2-user/anaconda3/envs/python3/lib/python3.6/site-packages (from pandas_profiling) (1.19.5)\n",
      "Requirement already satisfied: PyYAML>=5.0.0 in /home/ec2-user/anaconda3/envs/python3/lib/python3.6/site-packages (from pandas_profiling) (5.4.1)\n",
      "Requirement already satisfied: missingno>=0.4.2 in /home/ec2-user/anaconda3/envs/python3/lib/python3.6/site-packages (from pandas_profiling) (0.4.2)\n",
      "Requirement already satisfied: joblib in /home/ec2-user/anaconda3/envs/python3/lib/python3.6/site-packages (from pandas_profiling) (1.0.1)\n",
      "Requirement already satisfied: visions[type_image_path]==0.7.1 in /home/ec2-user/anaconda3/envs/python3/lib/python3.6/site-packages (from pandas_profiling) (0.7.1)\n",
      "Requirement already satisfied: jinja2>=2.11.1 in /home/ec2-user/anaconda3/envs/python3/lib/python3.6/site-packages (from pandas_profiling) (2.11.3)\n",
      "Requirement already satisfied: tqdm>=4.48.2 in /home/ec2-user/anaconda3/envs/python3/lib/python3.6/site-packages (from pandas_profiling) (4.61.1)\n",
      "Requirement already satisfied: seaborn>=0.10.1 in /home/ec2-user/anaconda3/envs/python3/lib/python3.6/site-packages (from pandas_profiling) (0.11.1)\n",
      "Requirement already satisfied: htmlmin>=0.1.12 in /home/ec2-user/anaconda3/envs/python3/lib/python3.6/site-packages (from pandas_profiling) (0.1.12)\n",
      "Requirement already satisfied: pydantic>=1.8.1 in /home/ec2-user/anaconda3/envs/python3/lib/python3.6/site-packages (from pandas_profiling) (1.8.2)\n",
      "Collecting pandas!=1.0.0,!=1.0.1,!=1.0.2,!=1.1.0,>=0.25.3\n",
      "  Downloading pandas-1.1.5-cp36-cp36m-manylinux1_x86_64.whl (9.5 MB)\n",
      "\u001b[K     |████████████████████████████████| 9.5 MB 20.6 MB/s eta 0:00:01\n",
      "\u001b[?25hRequirement already satisfied: attrs>=19.3.0 in /home/ec2-user/anaconda3/envs/python3/lib/python3.6/site-packages (from visions[type_image_path]==0.7.1->pandas_profiling) (20.3.0)\n",
      "Requirement already satisfied: networkx>=2.4 in /home/ec2-user/anaconda3/envs/python3/lib/python3.6/site-packages (from visions[type_image_path]==0.7.1->pandas_profiling) (2.5)\n",
      "Requirement already satisfied: bottleneck in /home/ec2-user/anaconda3/envs/python3/lib/python3.6/site-packages (from visions[type_image_path]==0.7.1->pandas_profiling) (1.3.2)\n",
      "Requirement already satisfied: multimethod==1.4 in /home/ec2-user/anaconda3/envs/python3/lib/python3.6/site-packages (from visions[type_image_path]==0.7.1->pandas_profiling) (1.4)\n",
      "Requirement already satisfied: imagehash in /home/ec2-user/anaconda3/envs/python3/lib/python3.6/site-packages (from visions[type_image_path]==0.7.1->pandas_profiling) (4.2.0)\n",
      "Requirement already satisfied: Pillow in /home/ec2-user/anaconda3/envs/python3/lib/python3.6/site-packages (from visions[type_image_path]==0.7.1->pandas_profiling) (8.2.0)\n",
      "Requirement already satisfied: MarkupSafe>=0.23 in /home/ec2-user/anaconda3/envs/python3/lib/python3.6/site-packages (from jinja2>=2.11.1->pandas_profiling) (1.1.1)\n",
      "Requirement already satisfied: pyparsing!=2.0.4,!=2.1.2,!=2.1.6,>=2.0.3 in /home/ec2-user/anaconda3/envs/python3/lib/python3.6/site-packages (from matplotlib>=3.2.0->pandas_profiling) (2.4.7)\n",
      "Requirement already satisfied: kiwisolver>=1.0.1 in /home/ec2-user/anaconda3/envs/python3/lib/python3.6/site-packages (from matplotlib>=3.2.0->pandas_profiling) (1.3.1)\n",
      "Requirement already satisfied: python-dateutil>=2.1 in /home/ec2-user/anaconda3/envs/python3/lib/python3.6/site-packages (from matplotlib>=3.2.0->pandas_profiling) (2.8.1)\n",
      "Requirement already satisfied: cycler>=0.10 in /home/ec2-user/anaconda3/envs/python3/lib/python3.6/site-packages (from matplotlib>=3.2.0->pandas_profiling) (0.10.0)\n",
      "Requirement already satisfied: six in /home/ec2-user/anaconda3/envs/python3/lib/python3.6/site-packages (from cycler>=0.10->matplotlib>=3.2.0->pandas_profiling) (1.15.0)\n",
      "Requirement already satisfied: decorator>=4.3.0 in /home/ec2-user/anaconda3/envs/python3/lib/python3.6/site-packages (from networkx>=2.4->visions[type_image_path]==0.7.1->pandas_profiling) (4.4.2)\n",
      "Requirement already satisfied: pytz>=2017.2 in /home/ec2-user/anaconda3/envs/python3/lib/python3.6/site-packages (from pandas!=1.0.0,!=1.0.1,!=1.0.2,!=1.1.0,>=0.25.3->pandas_profiling) (2021.1)\n",
      "Requirement already satisfied: typing-extensions>=3.7.4.3 in /home/ec2-user/anaconda3/envs/python3/lib/python3.6/site-packages (from pydantic>=1.8.1->pandas_profiling) (3.7.4.3)\n",
      "Requirement already satisfied: dataclasses>=0.6 in /home/ec2-user/anaconda3/envs/python3/lib/python3.6/site-packages (from pydantic>=1.8.1->pandas_profiling) (0.8)\n",
      "Requirement already satisfied: chardet<5,>=3.0.2 in /home/ec2-user/anaconda3/envs/python3/lib/python3.6/site-packages (from requests>=2.24.0->pandas_profiling) (3.0.4)\n",
      "Requirement already satisfied: certifi>=2017.4.17 in /home/ec2-user/anaconda3/envs/python3/lib/python3.6/site-packages (from requests>=2.24.0->pandas_profiling) (2020.12.5)\n",
      "Requirement already satisfied: idna<3,>=2.5 in /home/ec2-user/anaconda3/envs/python3/lib/python3.6/site-packages (from requests>=2.24.0->pandas_profiling) (2.10)\n",
      "Requirement already satisfied: urllib3<1.27,>=1.21.1 in /home/ec2-user/anaconda3/envs/python3/lib/python3.6/site-packages (from requests>=2.24.0->pandas_profiling) (1.26.5)\n",
      "Requirement already satisfied: PyWavelets in /home/ec2-user/anaconda3/envs/python3/lib/python3.6/site-packages (from imagehash->visions[type_image_path]==0.7.1->pandas_profiling) (1.1.1)\n",
      "Installing collected packages: pandas\n",
      "  Attempting uninstall: pandas\n",
      "    Found existing installation: pandas 0.25.0\n",
      "    Uninstalling pandas-0.25.0:\n",
      "      Successfully uninstalled pandas-0.25.0\n",
      "Successfully installed pandas-1.1.5\n"
     ]
    }
   ],
   "source": [
    "!pip install pandas_profiling"
   ]
  },
  {
   "cell_type": "code",
   "execution_count": 24,
   "id": "61e5fcf3",
   "metadata": {},
   "outputs": [],
   "source": [
    "import pandas_profiling"
   ]
  },
  {
   "cell_type": "code",
   "execution_count": 25,
   "id": "a75b97c0",
   "metadata": {},
   "outputs": [],
   "source": [
    "from pandas_profiling import ProfileReport"
   ]
  },
  {
   "cell_type": "code",
   "execution_count": 12,
   "id": "73857008",
   "metadata": {},
   "outputs": [
    {
     "name": "stdout",
     "output_type": "stream",
     "text": [
      "Collecting pandas==0.25\n",
      "  Downloading pandas-0.25.0-cp36-cp36m-manylinux1_x86_64.whl (10.5 MB)\n",
      "\u001b[K     |████████████████████████████████| 10.5 MB 17.4 MB/s eta 0:00:01\n",
      "\u001b[?25hRequirement already satisfied: python-dateutil>=2.6.1 in /home/ec2-user/anaconda3/envs/python3/lib/python3.6/site-packages (from pandas==0.25) (2.8.1)\n",
      "Requirement already satisfied: pytz>=2017.2 in /home/ec2-user/anaconda3/envs/python3/lib/python3.6/site-packages (from pandas==0.25) (2021.1)\n",
      "Requirement already satisfied: numpy>=1.13.3 in /home/ec2-user/anaconda3/envs/python3/lib/python3.6/site-packages (from pandas==0.25) (1.19.5)\n",
      "Requirement already satisfied: six>=1.5 in /home/ec2-user/anaconda3/envs/python3/lib/python3.6/site-packages (from python-dateutil>=2.6.1->pandas==0.25) (1.15.0)\n",
      "Installing collected packages: pandas\n",
      "  Attempting uninstall: pandas\n",
      "    Found existing installation: pandas 1.1.5\n",
      "    Uninstalling pandas-1.1.5:\n",
      "      Successfully uninstalled pandas-1.1.5\n",
      "\u001b[31mERROR: pip's dependency resolver does not currently take into account all the packages that are installed. This behaviour is the source of the following dependency conflicts.\n",
      "visions 0.7.1 requires pandas>=0.25.3, but you have pandas 0.25.0 which is incompatible.\n",
      "phik 0.11.2 requires pandas>=0.25.1, but you have pandas 0.25.0 which is incompatible.\n",
      "pandas-profiling 3.0.0 requires pandas!=1.0.0,!=1.0.1,!=1.0.2,!=1.1.0,>=0.25.3, but you have pandas 0.25.0 which is incompatible.\u001b[0m\n",
      "Successfully installed pandas-0.25.0\n"
     ]
    }
   ],
   "source": [
    "!pip install pandas==0.25"
   ]
  },
  {
   "cell_type": "code",
   "execution_count": 26,
   "id": "a27dae43",
   "metadata": {},
   "outputs": [],
   "source": [
    "import pandas"
   ]
  },
  {
   "cell_type": "code",
   "execution_count": 27,
   "id": "9cb5e60d",
   "metadata": {},
   "outputs": [
    {
     "data": {
      "application/vnd.jupyter.widget-view+json": {
       "model_id": "895b622dc5c54e459263c407b5f5c983",
       "version_major": 2,
       "version_minor": 0
      },
      "text/plain": [
       "Summarize dataset:   0%|          | 0/20 [00:00<?, ?it/s]"
      ]
     },
     "metadata": {},
     "output_type": "display_data"
    },
    {
     "data": {
      "application/vnd.jupyter.widget-view+json": {
       "model_id": "71ce7ad14eab4699a10efde1908a5e33",
       "version_major": 2,
       "version_minor": 0
      },
      "text/plain": [
       "Generate report structure:   0%|          | 0/1 [00:00<?, ?it/s]"
      ]
     },
     "metadata": {},
     "output_type": "display_data"
    },
    {
     "data": {
      "application/vnd.jupyter.widget-view+json": {
       "model_id": "4e74bde562fa406f89a44ad3df008630",
       "version_major": 2,
       "version_minor": 0
      },
      "text/plain": [
       "Render HTML:   0%|          | 0/1 [00:00<?, ?it/s]"
      ]
     },
     "metadata": {},
     "output_type": "display_data"
    },
    {
     "data": {
      "application/vnd.jupyter.widget-view+json": {
       "model_id": "7d2b0afb092640449754c24bfd970ab8",
       "version_major": 2,
       "version_minor": 0
      },
      "text/plain": [
       "Export report to file:   0%|          | 0/1 [00:00<?, ?it/s]"
      ]
     },
     "metadata": {},
     "output_type": "display_data"
    }
   ],
   "source": [
    "ProfileReport(data).to_file('profile.html')"
   ]
  },
  {
   "cell_type": "code",
   "execution_count": null,
   "id": "175ab3a9",
   "metadata": {},
   "outputs": [],
   "source": []
  }
 ],
 "metadata": {
  "kernelspec": {
   "display_name": "conda_python3",
   "language": "python",
   "name": "conda_python3"
  },
  "language_info": {
   "codemirror_mode": {
    "name": "ipython",
    "version": 3
   },
   "file_extension": ".py",
   "mimetype": "text/x-python",
   "name": "python",
   "nbconvert_exporter": "python",
   "pygments_lexer": "ipython3",
   "version": "3.6.13"
  }
 },
 "nbformat": 4,
 "nbformat_minor": 5
}
